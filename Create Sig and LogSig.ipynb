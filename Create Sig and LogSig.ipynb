{
 "cells": [
  {
   "cell_type": "code",
   "execution_count": 1,
   "metadata": {},
   "outputs": [],
   "source": [
    "import numpy as np\n",
    "import matplotlib.pyplot as plt\n",
    "%matplotlib inline \n",
    "from scipy.stats import norm\n",
    "import time as ttt\n",
    "import iisignature as iisig\n",
    "from tqdm import *"
   ]
  },
  {
   "cell_type": "code",
   "execution_count": 2,
   "metadata": {},
   "outputs": [],
   "source": [
    "steps = 5000\n",
    "segs = 20 # number of segments\n",
    "Paths = np.load(\"Paths_{}.npy\".format(steps))\n",
    "n_paths = Paths.shape[0]"
   ]
  },
  {
   "cell_type": "code",
   "execution_count": 3,
   "metadata": {},
   "outputs": [],
   "source": [
    "x0 = 1.0 # initial condition\n",
    "sigma = 1 # volatility\n",
    "r = 0.01 # risk free rate\n",
    "batch_size = 1000 # batch size\n",
    "T = 1 # maturity\n",
    "dt = T/steps # mesh size"
   ]
  },
  {
   "cell_type": "code",
   "execution_count": 4,
   "metadata": {},
   "outputs": [],
   "source": [
    "shrink = int(steps/segs) # eg. shrink steps to segments\n",
    "dt_new = T/segs # new mesh after shrinkage\n",
    "level = 3 # truncation level\n",
    "sig_dim = iisig.siglength(2,level)# dimension of siganature\n",
    "logsig_dim = iisig.logsiglength(2,level)# dimension of log-siganature"
   ]
  },
  {
   "cell_type": "code",
   "execution_count": 5,
   "metadata": {},
   "outputs": [],
   "source": [
    "def generate_t(T, batch_size = batch_size):\n",
    "    '''\n",
    "    generate time steps\n",
    "    dim = batch_size * (steps+1). eg. 2000 * 101\n",
    "    '''\n",
    "    return np.tile(np.linspace(1e-8, T+1e-8, steps + 1, dtype = np.float32), (batch_size,1))"
   ]
  },
  {
   "cell_type": "code",
   "execution_count": 6,
   "metadata": {},
   "outputs": [
    {
     "data": {
      "text/plain": [
       "101"
      ]
     },
     "execution_count": 6,
     "metadata": {},
     "output_type": "execute_result"
    }
   ],
   "source": [
    "t = generate_t(T, batch_size)[0][0:]\n",
    "len(t)"
   ]
  },
  {
   "cell_type": "code",
   "execution_count": 7,
   "metadata": {},
   "outputs": [],
   "source": [
    "# Create Sig and Log-Sig from Paths."
   ]
  },
  {
   "cell_type": "code",
   "execution_count": 8,
   "metadata": {},
   "outputs": [],
   "source": [
    "def Create_Signatures(paths, segments = segs):\n",
    "    '''\n",
    "    input: paths & # of segmentations\n",
    "    output: (1) log-sigatures: \n",
    "                dim = (n_paths * (segments+1) * logsig_dim), \n",
    "            (2) sigatures: \n",
    "                dim = (n_paths * (segments+1) * sig_dim),\n",
    "    '''\n",
    "\n",
    "    # Initialization\n",
    "    n_paths = paths.shape[0]\n",
    "    logsig = np.zeros((n_paths, segments + 1, logsig_dim))\n",
    "    sig = np.zeros((n_paths, segments + 1, sig_dim))\n",
    "    t = generate_t(T, steps)[0, None, :]\n",
    "    \n",
    "    # signature at time 0 = x_0\n",
    "    path_cut = paths[:,0] # cut paths into segments\n",
    "    time_cut = t[:, 0]  # cut time into segments\n",
    "    s = iisig.prepare(2, level)\n",
    "    for i in range(n_paths): \n",
    "        stream = np.hstack((time_cut.reshape((-1,1)), path_cut[i].reshape((-1,1))))  #\n",
    "        sig[i, 0, :] = iisig.sig(stream, level) # dim = (84, )\n",
    "        logsig[i, 0, :] = iisig.sig(stream, level)[:logsig_dim]\n",
    "\n",
    "    # This step computes signatures.\n",
    "    for k in tqdm(range(segments)):\n",
    "        path_cut = paths[:, (k*shrink):(k+1)*shrink+1]\n",
    "        time_cut = t[:, (k*shrink):(k+1)*shrink+1]\n",
    "        for i in range(n_paths):\n",
    "            stream = np.hstack((time_cut.reshape((-1,1)), path_cut[i].reshape((-1,1))))\n",
    "            sig[i, k+1, :] = iisig.sig(stream, level)\n",
    "            logsig[i, k+1, :] = iisig.logsig(stream, s)\n",
    "\n",
    "            \n",
    "    return {'logsig': logsig, 'sig': sig}"
   ]
  },
  {
   "cell_type": "code",
   "execution_count": 9,
   "metadata": {},
   "outputs": [
    {
     "name": "stdout",
     "output_type": "stream",
     "text": [
      "Creating Sig and Log-Sig with 5 segments from Paths with 100 steps... \n"
     ]
    },
    {
     "name": "stderr",
     "output_type": "stream",
     "text": [
      "100%|████████████████████████████████████████████████████████████████████████████████████| 5/5 [00:04<00:00,  1.01it/s]\n"
     ]
    }
   ],
   "source": [
    "print(\"Creating Sig and Log-Sig with {} segments from Paths with {} steps... \".format(segs, steps))\n",
    "logsig_sig = Create_Signatures(Paths, segments = segs)\n",
    "logsig = logsig_sig[\"logsig\"]\n",
    "sig = logsig_sig[\"sig\"]"
   ]
  },
  {
   "cell_type": "code",
   "execution_count": 10,
   "metadata": {},
   "outputs": [],
   "source": [
    "np.save(\"logsig_{}_from_{}.npy\".format(segs, steps), logsig)\n",
    "np.save(\"sig_{}_from_{}.npy\".format(segs, steps), sig)"
   ]
  },
  {
   "cell_type": "code",
   "execution_count": 11,
   "metadata": {},
   "outputs": [],
   "source": [
    "# Selection of W \n",
    "W_full= np.load(\"W_{}.npy\".format(steps))\n",
    "selection = np.linspace(0,steps, segs+1, dtype = np.int)\n",
    "W_segs = W_full[:,selection]"
   ]
  },
  {
   "cell_type": "code",
   "execution_count": 12,
   "metadata": {},
   "outputs": [],
   "source": [
    "np.save(\"W_{}_from_{}.npy\".format(segs, steps), W_segs)"
   ]
  },
  {
   "cell_type": "code",
   "execution_count": null,
   "metadata": {},
   "outputs": [],
   "source": []
  }
 ],
 "metadata": {
  "kernelspec": {
   "display_name": "Python 3",
   "language": "python",
   "name": "python3"
  },
  "language_info": {
   "codemirror_mode": {
    "name": "ipython",
    "version": 3
   },
   "file_extension": ".py",
   "mimetype": "text/x-python",
   "name": "python",
   "nbconvert_exporter": "python",
   "pygments_lexer": "ipython3",
   "version": "3.5.5"
  }
 },
 "nbformat": 4,
 "nbformat_minor": 2
}
